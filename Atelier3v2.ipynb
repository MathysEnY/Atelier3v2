{
 "cells": [
  {
   "cell_type": "markdown",
   "metadata": {},
   "source": [
    "ATELIER 3 (v2) "
   ]
  },
  {
   "cell_type": "markdown",
   "metadata": {},
   "source": [
    "**code final à la fin**"
   ]
  },
  {
   "cell_type": "markdown",
   "metadata": {},
   "source": [
    "Étape 1 - Tracé du tableau\n",
    "Écrire la procédure displayGridLine() qui affiche une ligne de séparation du tableau : +---------------+---------+-----+----------+\n",
    "\n",
    "Remplacer les affichages par un appel à cette procédure.\n",
    "\n",
    "Utiliser cette procédure pour écrire les procédures suivantes :\n",
    "\n",
    "displayProductGridHeader qui affiche tout ce qui précède les lignes de produit\n",
    "displayProductGridFooter qui prend en paramètre le total et affiche ce qui suit les lignes de produit\n",
    "Entourer les affichages de ligne de produit par des appels à ces procédures."
   ]
  },
  {
   "cell_type": "markdown",
   "metadata": {},
   "source": [
    "Étape 2 - Fonction de saisie\n",
    "Les lignes 8 et 9 sont répétées sur les lignes 14 et 15.\n",
    "\n",
    "Pour éviter cette répétition, mutualiser ces répétitions dans une fonction inputProductQuantity retournant la quantité saisie par l'utilisateur et en recevant en paramètres :\n",
    "\n",
    "le keyboard\n",
    "le productName (au lieu de productName1 ou 2)\n",
    "le unitPrice (au lieu de unitPrice1 ou 2)\n",
    "Initialiser quantite1 et quantite2 avec le résultat d'un appel à cette fonction.\n",
    "\n",
    "Améliorer cette fonction en y ajoutant une boucle qui affiche un message d'erreur et redemande la quantité si elle n'est pas comprise en 0 et 900 compris."
   ]
  },
  {
   "cell_type": "code",
   "execution_count": null,
   "metadata": {},
   "outputs": [],
   "source": [
    "void displayGridLine()\n",
    "{\n",
    "    System.out.println(\"+---------------+---------+-----+----------+\");\n",
    "}\n",
    "void displayProductGridHeader()\n",
    "{\n",
    "    System.out.println(\"+---------------+---------+-----+----------+\");\n",
    "    System.out.println(\"| Product       | € Unit  | Qty |   price  |\");\n",
    "    System.out.println(\"+---------------+---------+-----+----------+\");\n",
    "}\n",
    "\n",
    "void displayProductGridFooter(double total)\n",
    "{\n",
    "    System.out.println(\"+---------------+---------+-----+----------+\");\n",
    "    System.out.printf(\"                                |%7.2f€  |\\n\", total);\n",
    "    System.out.println(\"                                +----------+\");\n",
    "}\n",
    "\n",
    "int inputProductQuantity(Scanner keyboard, String productName, double unitPrice) {\n",
    "    System.out.printf(\"Entrez la quantité de %s à €%.2f :\\n\", productName, unitPrice);\n",
    "    int quantity = keyboard.nextInt();\n",
    "    while (quantity < 0 || quantity > 900) {\n",
    "        System.out.println(\"Valeur incorrecte, veuillez réessayer.\");\n",
    "        System.out.println(\"Veuillez saisir un nombre compris entre 0 et 900.\");\n",
    "        quantity = keyboard.nextInt();\n",
    "    }\n",
    "    return quantity;\n",
    "}\n",
    "\n",
    "double displayProductGridEntry(String productName, double unitPrice, int quantity)\n",
    "{\n",
    "    double price = unitPrice * (double)quantity;\n",
    "\n",
    "    System.out.printf(\"| %-13s | %6.2f€ | %3d | %7.2f€ |\\n\", productName, unitPrice, quantity, price);\n",
    "    return price;\n",
    "}"
   ]
  },
  {
   "cell_type": "markdown",
   "metadata": {},
   "source": [
    "Étape 3 - Entrées du tableau\n",
    "Écrire une fonction displayProductGridEntry qui affiche une ligne produit à partir des données du produit reçues en paramètres et retourne le prix total de la ligne.\n",
    "\n",
    "Utiliser la valeur de retour pour calculer le total de la commande."
   ]
  },
  {
   "cell_type": "markdown",
   "metadata": {},
   "source": [
    "Affichage"
   ]
  },
  {
   "cell_type": "code",
   "execution_count": 12,
   "metadata": {},
   "outputs": [
    {
     "name": "stdout",
     "output_type": "stream",
     "text": [
      "+---------------+---------+-----+----------+\n"
     ]
    },
    {
     "name": "stdout",
     "output_type": "stream",
     "text": [
      "+---------------+---------+-----+----------+\n",
      "| Product       | € Unit  | Qty |   price  |\n",
      "+---------------+---------+-----+----------+\n",
      "+---------------+---------+-----+----------+\n",
      "                                |  41.00€  |\n",
      "                                +----------+\n"
     ]
    }
   ],
   "source": [
    "displayGridLine();\n",
    "\n",
    "displayProductGridHeader();\n",
    "\n",
    "displayProductGridFooter(total);"
   ]
  },
  {
   "cell_type": "markdown",
   "metadata": {},
   "source": [
    "**CODE FINAL ET COMPLET**"
   ]
  },
  {
   "cell_type": "code",
   "execution_count": 11,
   "metadata": {},
   "outputs": [
    {
     "name": "stdout",
     "output_type": "stream",
     "text": [
      "Entrez la quantité de Stylos à €1.20 :\n",
      "Entrez la quantité de Cahier à €3.50 :\n",
      "+---------------+---------+-----+----------+\n",
      "| Product       | € Unit  | Qty |   price  |\n",
      "+---------------+---------+-----+----------+\n",
      "| Stylos        |   1.20€ |   5 |    6.00€ |\n",
      "| Cahier        |   3.50€ |  10 |   35.00€ |\n",
      "+---------------+---------+-----+----------+\n",
      "                                |  41.00€  |\n",
      "                                +----------+\n"
     ]
    }
   ],
   "source": [
    "import java.util.Scanner;\n",
    "\n",
    "void displayGridLine() {\n",
    "    System.out.println(\"+---------------+---------+-----+----------+\");\n",
    "}\n",
    "\n",
    "void displayProductGridHeader() {\n",
    "    System.out.println(\"+---------------+---------+-----+----------+\");\n",
    "    System.out.println(\"| Product       | € Unit  | Qty |   price  |\");\n",
    "    System.out.println(\"+---------------+---------+-----+----------+\");\n",
    "}\n",
    "\n",
    "void displayProductGridFooter(double total) {\n",
    "    System.out.println(\"+---------------+---------+-----+----------+\");\n",
    "    System.out.printf(\"                                |%7.2f€  |\\n\", total);\n",
    "    System.out.println(\"                                +----------+\");\n",
    "}\n",
    "\n",
    "int inputProductQuantity(Scanner keyboard, String productName, double unitPrice) {\n",
    "    System.out.printf(\"Entrez la quantité de %s à €%.2f :\\n\", productName, unitPrice);\n",
    "    int quantity = keyboard.nextInt();\n",
    "    while (quantity < 0 || quantity > 900) {\n",
    "        System.out.println(\"Valeur incorrecte, veuillez réessayer.\");\n",
    "        System.out.println(\"Veuillez saisir un nombre compris entre 0 et 900.\");\n",
    "        quantity = keyboard.nextInt();\n",
    "    }\n",
    "    return quantity;\n",
    "}\n",
    "\n",
    "double displayProductGridEntry(String productName, double unitPrice, int quantity) {\n",
    "    double price = unitPrice * (double)quantity;\n",
    "    System.out.printf(\"| %-13s | %6.2f€ | %3d | %7.2f€ |\\n\", productName, unitPrice, quantity, price);\n",
    "    return price;\n",
    "}\n",
    "\n",
    "// Code principal\n",
    "Scanner keyboard = new Scanner(System.in);\n",
    "\n",
    "String productName1 = \"Stylos\"; \n",
    "double unitPrice1 = 1.2; \n",
    "\n",
    "int quantity1 = inputProductQuantity(keyboard, productName1, unitPrice1);\n",
    "\n",
    "String productName2 = \"Cahier\";\n",
    "double unitPrice2 = 3.5;\n",
    "\n",
    "int quantity2 = inputProductQuantity(keyboard, productName2, unitPrice2);\n",
    "\n",
    "keyboard.close();\n",
    "\n",
    "double total = 0;\n",
    "\n",
    "displayProductGridHeader();\n",
    "\n",
    "total += displayProductGridEntry(productName1, unitPrice1, quantity1);\n",
    "\n",
    "total += displayProductGridEntry(productName2, unitPrice2, quantity2);\n",
    "\n",
    "displayProductGridFooter(total);\n",
    "\n"
   ]
  }
 ],
 "metadata": {
  "kernelspec": {
   "display_name": "Java (rjk 2.2.0)",
   "language": "java",
   "name": "rapaio-jupyter-kernel"
  },
  "language_info": {
   "codemirror_mode": "java",
   "file_extension": ".jshell",
   "mimetype": "text/x-java-source",
   "name": "java",
   "nbconvert_exporter": "script",
   "pygments_lexer": "java",
   "version": "21.0.5+11-LTS"
  }
 },
 "nbformat": 4,
 "nbformat_minor": 2
}
